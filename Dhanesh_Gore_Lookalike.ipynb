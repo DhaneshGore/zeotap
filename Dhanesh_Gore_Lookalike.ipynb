{
  "nbformat": 4,
  "nbformat_minor": 0,
  "metadata": {
    "colab": {
      "provenance": []
    },
    "kernelspec": {
      "name": "python3",
      "display_name": "Python 3"
    },
    "language_info": {
      "name": "python"
    }
  },
  "cells": [
    {
      "cell_type": "code",
      "execution_count": 1,
      "metadata": {
        "id": "oOATX8oMthwU"
      },
      "outputs": [],
      "source": [
        "import pandas as pd\n",
        "from sklearn.feature_extraction.text import TfidfVectorizer\n",
        "from sklearn.metrics.pairwise import cosine_similarity\n",
        "from sklearn.preprocessing import StandardScaler\n",
        "import numpy as np"
      ]
    },
    {
      "cell_type": "code",
      "source": [
        "# Load datasets\n",
        "cs = pd.read_csv(\"Customers.csv\")\n",
        "ps = pd.read_csv(\"Products.csv\")\n",
        "ts = pd.read_csv(\"Transactions.csv\")"
      ],
      "metadata": {
        "id": "_qEbBJbztmNf"
      },
      "execution_count": 4,
      "outputs": []
    },
    {
      "cell_type": "code",
      "source": [
        "# Convert dates to datetime\n",
        "cs['SignupDate'] = pd.to_datetime(cs['SignupDate'])\n",
        "ts['TransactionDate'] = pd.to_datetime(ts['TransactionDate'])\n"
      ],
      "metadata": {
        "id": "V1vAieHYtrvM"
      },
      "execution_count": 5,
      "outputs": []
    },
    {
      "cell_type": "code",
      "source": [
        "# Merge the dataframes\n",
        "# Assuming 'CustomerID' and 'ProductID' are common columns for merging\n",
        "merged_data = pd.merge(ts, cs, on='CustomerID', how='left')\n",
        "merged_data = pd.merge(merged_data, ps, on='ProductID', how='left')\n",
        "\n",
        "\n",
        "# Aggregate transaction data per customer\n",
        "customer_transactions = merged_data.groupby('CustomerID').agg({\n",
        "    'TotalValue': 'sum',  # Total spending\n",
        "    'Quantity': 'sum',  # Total quantity purchased\n",
        "    'Category': lambda x: ' '.join(x),  # Combine product categories\n",
        "    'ProductName': lambda x: ' '.join(x)  # Combine product names\n",
        "}).reset_index()"
      ],
      "metadata": {
        "id": "v_oUA-Ovtt-P"
      },
      "execution_count": 7,
      "outputs": []
    },
    {
      "cell_type": "code",
      "source": [
        "# Merge customer data with aggregated transaction data\n",
        "customer_features = cs.merge(customer_transactions, on='CustomerID', how='left').fillna(0)\n"
      ],
      "metadata": {
        "id": "2FoYaq6nt-79"
      },
      "execution_count": 12,
      "outputs": []
    },
    {
      "cell_type": "code",
      "source": [
        "# Normalize numerical features\n",
        "scaler = StandardScaler()\n",
        "numerical_features = scaler.fit_transform(customer_features[['TotalValue', 'Quantity']])"
      ],
      "metadata": {
        "id": "-xg0mpvPuLMp"
      },
      "execution_count": 13,
      "outputs": []
    },
    {
      "cell_type": "code",
      "source": [
        "# Convert 'Category' column to string type before applying TF-IDF\n",
        "customer_features['Category'] = customer_features['Category'].astype(str)\n",
        "\n",
        "# Encode categorical features using TF-IDF\n",
        "vectorizer = TfidfVectorizer()\n",
        "category_features = vectorizer.fit_transform(customer_features['Category'])"
      ],
      "metadata": {
        "id": "SMjKbafCuQaX"
      },
      "execution_count": 15,
      "outputs": []
    },
    {
      "cell_type": "code",
      "source": [
        "# Combine all features into a single matrix\n",
        "final_features = np.hstack((numerical_features, category_features.toarray()))"
      ],
      "metadata": {
        "id": "j9rg_MMeujF5"
      },
      "execution_count": 16,
      "outputs": []
    },
    {
      "cell_type": "code",
      "source": [
        "# Calculate Cosine Similarity\n",
        "similarity_matrix = cosine_similarity(final_features)"
      ],
      "metadata": {
        "id": "FSM0WwJ9uxjr"
      },
      "execution_count": 17,
      "outputs": []
    },
    {
      "cell_type": "code",
      "source": [
        "# Create Lookalike Recommendations\n",
        "lookalike_map = {}\n",
        "for idx, customer_id in enumerate(customer_features['CustomerID']):\n",
        "    similarity_scores = list(enumerate(similarity_matrix[idx]))\n",
        "    similarity_scores = sorted(similarity_scores, key=lambda x: x[1], reverse=True)\n",
        "    top_3 = [(customer_features['CustomerID'][i], score) for i, score in similarity_scores[1:4]]\n",
        "    lookalike_map[customer_id] = top_3"
      ],
      "metadata": {
        "id": "TtpjQfZxuzYn"
      },
      "execution_count": 18,
      "outputs": []
    },
    {
      "cell_type": "code",
      "source": [
        "# Prepare Lookalike.csv for the first 20 customers\n",
        "lookalike_data = []\n",
        "for customer_id in cs['CustomerID'][:20]:\n",
        "    recommendations = lookalike_map.get(customer_id, [])\n",
        "    lookalike_data.append({\n",
        "        'cust_id': customer_id,\n",
        "        'lookalikes': recommendations\n",
        "    })"
      ],
      "metadata": {
        "id": "V_vIjg3Fu1Fy"
      },
      "execution_count": 20,
      "outputs": []
    },
    {
      "cell_type": "code",
      "source": [
        "lookalike_df = pd.DataFrame(lookalike_data)\n",
        "lookalike_df.to_csv('Dhanesh_Gore_Lookalike.csv', index=False)"
      ],
      "metadata": {
        "id": "uijQHdyDu3VE"
      },
      "execution_count": 22,
      "outputs": []
    },
    {
      "cell_type": "code",
      "source": [],
      "metadata": {
        "id": "iTUxFr9VvC5c"
      },
      "execution_count": null,
      "outputs": []
    }
  ]
}